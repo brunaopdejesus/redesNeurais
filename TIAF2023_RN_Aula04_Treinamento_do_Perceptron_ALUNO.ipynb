{
  "cells": [
    {
      "cell_type": "markdown",
      "metadata": {
        "id": "view-in-github",
        "colab_type": "text"
      },
      "source": [
        "<a href=\"https://colab.research.google.com/github/brunaopdejesus/redesNeurais/blob/main/TIAF2023_RN_Aula04_Treinamento_do_Perceptron_ALUNO.ipynb\" target=\"_parent\"><img src=\"https://colab.research.google.com/assets/colab-badge.svg\" alt=\"Open In Colab\"/></a>"
      ]
    },
    {
      "cell_type": "markdown",
      "metadata": {
        "id": "zYa9SNh3zzNL"
      },
      "source": [
        "FIAP - Redes Neurais Artificiais, Deep Learning e Algoritmos Genéticos \n",
        "\n",
        "# Aula 04 - Treinamento do Perceptron\n",
        "\n",
        "Lembrando do que vimos na matéria de _Machine Learning_, quando desenvolvemos modelos preditivos temos 2 fases: \n",
        "- **treinamento** : construção do modelo\n",
        "- **teste** : uso do modelo construído\n",
        "\n",
        "Na última aula, nós usamos uma rede \"pronta\" para predizer se uma faculdade era uma boa escolha ou não (modelo de classificação) ou prever um score de cada faculdade para criar um ranking (modelo de regressão).\n",
        "\n",
        "Note que os pesos já foram fornecidos, ou seja, o modelo já estava \"treinado\": \n",
        "\n",
        "```python\n",
        "pesos = [ 0.10, 0.05, 0.05, 0.2, 0.25, 0.3, 0.05 ]\n",
        "```\n",
        "\n",
        "Mas e se os pesos não fossem dados? Como poderíamos encontrar os melhores pesos para o problema? Daí surge o **treinamento dos modelos**, ou seja, encontrar os pesos adequados para modelar o problema. "
      ]
    },
    {
      "cell_type": "markdown",
      "metadata": {
        "id": "kUWeqiuEzzNS"
      },
      "source": [
        "## Treinamento do Perceptron \n",
        "\n",
        "Aprendendo os melhores pesos para modelar o problema. \n",
        "\n",
        "\n",
        "1. Conhecer os dados de entrada e saída (labels)\n",
        "2. Inicializar os pesos (ex: valores aleatórios) \n",
        "3. Para todo dado de treinamento: \n",
        "    - Calcular as predições com os pesos correntes e as entradas e a função de ativação \n",
        "    - Calcular os erros das predições em relação às entradas \n",
        "    - Para cada peso: \n",
        "        - Atualizá-lo mediante o erro calculado (com a fórmula: pesos(n+1) = pesos(n) + (entrada * erro * taxaAprendizagem))\n",
        "4. Repetir passos a partir do #3 enquanto “erro != zero”\n"
      ]
    },
    {
      "cell_type": "code",
      "execution_count": 8,
      "metadata": {
        "id": "KgkBBwYKzzNU"
      },
      "outputs": [],
      "source": [
        "import numpy as np\n",
        "entradas = np.array([[0, 0],\n",
        "                     [0, 1],\n",
        "                     [1, 0],\n",
        "                     [1, 1]])\n",
        "saidas = np.array( [0, 0, 0, 1] )\n",
        "pesos = np.array( [0.5, -0.2] )   # Experimente alterar os pesos iniciais \n",
        "taxaAprendizagem = 0.2           # Varie este valor e veja o reflexo na saída"
      ]
    },
    {
      "cell_type": "code",
      "source": [
        "def funcao_ativacao(u):\n",
        "  if u >= 1:\n",
        "    return 1\n",
        "  else:\n",
        "    return 0\n",
        "\n",
        "def calcula_saida(linha):\n",
        "  soma = linha.dot(pesos)  # dot é uma função do numpy que multiplica e soma os valores de cada vetor (soma ponderada)\n",
        "  return funcao_ativacao(soma)\n",
        "\n",
        "# função para treinar o perceptron e achar os pesos\n",
        "def treinar():\n",
        "  erroTotal = 1  # força a entrada no while, pode ser qualquer número diferente de 0\n",
        "\n",
        "  while erroTotal != 0:\n",
        "    erroTotal = 0  # erro 0 porque não teve nenhuma previsão ainda\n",
        "    for i in range(len(saidas)):\n",
        "      saidaCalculada = calcula_saida(entradas[i]) # i é cada linha do array, cada exemplo de treinamento. [0,0]; [0,1]; [1,0]; [1,1]\n",
        "      erro = saidas[i] - saidaCalculada # LABEL ESPERADO - LABEL PREDITO | saidas sao os labels\n",
        "      erroTotal = erroTotal + erro # atualizo o valor de erroTotal\n",
        "      print(f\"\\tDado: {i}\") # marca em qual linha está\n",
        "\n",
        "      for j in range(len(pesos)):\n",
        "        pesos[j] = pesos[j] + (taxaAprendizagem * erro * entradas[i][j]) # linhas e colunas\n",
        "        print(f\"\\t\\tPeso atualizado {j}: {pesos[j]}\")\n",
        "    \n",
        "    print(f\"---> Total de erros: {erroTotal}\\n\")\n"
      ],
      "metadata": {
        "id": "envmwAk10nW3"
      },
      "execution_count": 6,
      "outputs": []
    },
    {
      "cell_type": "code",
      "execution_count": 2,
      "metadata": {
        "id": "boiHOtayzzNZ",
        "colab": {
          "base_uri": "https://localhost:8080/"
        },
        "outputId": "05b44c8f-e7df-48c8-cff4-dcd6741b85bd"
      },
      "outputs": [
        {
          "output_type": "execute_result",
          "data": {
            "text/plain": [
              "array([[0, 0],\n",
              "       [0, 1],\n",
              "       [1, 0],\n",
              "       [1, 1]])"
            ]
          },
          "metadata": {},
          "execution_count": 2
        }
      ],
      "source": [
        "entradas # pega o array inteiro  "
      ]
    },
    {
      "cell_type": "code",
      "execution_count": 3,
      "metadata": {
        "id": "xWym7GnmzzNc",
        "colab": {
          "base_uri": "https://localhost:8080/"
        },
        "outputId": "d7a56185-d1ce-4057-b004-20aed9e93c7b"
      },
      "outputs": [
        {
          "output_type": "execute_result",
          "data": {
            "text/plain": [
              "array([1, 1])"
            ]
          },
          "metadata": {},
          "execution_count": 3
        }
      ],
      "source": [
        "entradas[3] # pega toda a linha 3"
      ]
    },
    {
      "cell_type": "code",
      "source": [
        "entradas[3][1] # pega o segundo elemento da linha 3"
      ],
      "metadata": {
        "colab": {
          "base_uri": "https://localhost:8080/"
        },
        "id": "nDdx0xzo6B8A",
        "outputId": "d8d24bce-a250-401a-d155-412633c3e177"
      },
      "execution_count": 4,
      "outputs": [
        {
          "output_type": "execute_result",
          "data": {
            "text/plain": [
              "1"
            ]
          },
          "metadata": {},
          "execution_count": 4
        }
      ]
    },
    {
      "cell_type": "code",
      "source": [
        "treinar()"
      ],
      "metadata": {
        "colab": {
          "base_uri": "https://localhost:8080/"
        },
        "id": "vG2OHeUV7eKE",
        "outputId": "d3ca71ec-43ab-4027-ae3f-16cd4bfc91a5"
      },
      "execution_count": 9,
      "outputs": [
        {
          "output_type": "stream",
          "name": "stdout",
          "text": [
            "\tDado: 0\n",
            "\t\tPeso atualizado 0: 0.5\n",
            "\t\tPeso atualizado 1: -0.2\n",
            "\tDado: 1\n",
            "\t\tPeso atualizado 0: 0.5\n",
            "\t\tPeso atualizado 1: -0.2\n",
            "\tDado: 2\n",
            "\t\tPeso atualizado 0: 0.5\n",
            "\t\tPeso atualizado 1: -0.2\n",
            "\tDado: 3\n",
            "\t\tPeso atualizado 0: 0.7\n",
            "\t\tPeso atualizado 1: 0.0\n",
            "---> Total de erros: 1\n",
            "\n",
            "\tDado: 0\n",
            "\t\tPeso atualizado 0: 0.7\n",
            "\t\tPeso atualizado 1: 0.0\n",
            "\tDado: 1\n",
            "\t\tPeso atualizado 0: 0.7\n",
            "\t\tPeso atualizado 1: 0.0\n",
            "\tDado: 2\n",
            "\t\tPeso atualizado 0: 0.7\n",
            "\t\tPeso atualizado 1: 0.0\n",
            "\tDado: 3\n",
            "\t\tPeso atualizado 0: 0.8999999999999999\n",
            "\t\tPeso atualizado 1: 0.2\n",
            "---> Total de erros: 1\n",
            "\n",
            "\tDado: 0\n",
            "\t\tPeso atualizado 0: 0.8999999999999999\n",
            "\t\tPeso atualizado 1: 0.2\n",
            "\tDado: 1\n",
            "\t\tPeso atualizado 0: 0.8999999999999999\n",
            "\t\tPeso atualizado 1: 0.2\n",
            "\tDado: 2\n",
            "\t\tPeso atualizado 0: 0.8999999999999999\n",
            "\t\tPeso atualizado 1: 0.2\n",
            "\tDado: 3\n",
            "\t\tPeso atualizado 0: 0.8999999999999999\n",
            "\t\tPeso atualizado 1: 0.2\n",
            "---> Total de erros: 0\n",
            "\n"
          ]
        }
      ]
    },
    {
      "cell_type": "code",
      "source": [
        "pesos"
      ],
      "metadata": {
        "colab": {
          "base_uri": "https://localhost:8080/"
        },
        "id": "Q2szkMWf_uxc",
        "outputId": "7d1ea9ac-8227-41bc-b40a-cb06befcf695"
      },
      "execution_count": 10,
      "outputs": [
        {
          "output_type": "execute_result",
          "data": {
            "text/plain": [
              "array([0.9, 0.2])"
            ]
          },
          "metadata": {},
          "execution_count": 10
        }
      ]
    },
    {
      "cell_type": "markdown",
      "metadata": {
        "id": "f6ogBUz1zzNd"
      },
      "source": [
        "## Para casa\n",
        "\n",
        "Altere os valores dos pesos iniciais e da taxa de aprendizagem e observe o impacto no treinamento da rede. \n",
        "\n",
        "Note que eventualmente você pode chegar em uma configuração que a rede não converge para os pesos adequados (ou seja, o laço `while` continua a rodar infinitamente. Se isso ocorrer, pare a execução no botão STOP (interrupt the kernel), ou vá em Kernel > Restart. "
      ]
    },
    {
      "cell_type": "code",
      "execution_count": null,
      "metadata": {
        "id": "fpRxFYc4zzNf"
      },
      "outputs": [],
      "source": []
    }
  ],
  "metadata": {
    "kernelspec": {
      "display_name": "Python 3",
      "language": "python",
      "name": "python3"
    },
    "language_info": {
      "codemirror_mode": {
        "name": "ipython",
        "version": 3
      },
      "file_extension": ".py",
      "mimetype": "text/x-python",
      "name": "python",
      "nbconvert_exporter": "python",
      "pygments_lexer": "ipython3",
      "version": "3.7.3"
    },
    "colab": {
      "provenance": [],
      "include_colab_link": true
    }
  },
  "nbformat": 4,
  "nbformat_minor": 0
}