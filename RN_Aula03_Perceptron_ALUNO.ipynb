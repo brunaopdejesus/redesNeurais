{
  "cells": [
    {
      "cell_type": "markdown",
      "metadata": {
        "id": "view-in-github",
        "colab_type": "text"
      },
      "source": [
        "<a href=\"https://colab.research.google.com/github/brunaopdejesus/redesNeurais/blob/main/RN_Aula03_Perceptron_ALUNO.ipynb\" target=\"_parent\"><img src=\"https://colab.research.google.com/assets/colab-badge.svg\" alt=\"Open In Colab\"/></a>"
      ]
    },
    {
      "cell_type": "markdown",
      "metadata": {
        "id": "rAFzbrggx1c2"
      },
      "source": [
        "FIAP - Redes Neurais Artificiais, Deep Learning e Algoritmos Genéticos \n",
        "\n",
        "# Aula 03 - Trabalhando com Perceptron\n",
        "\n",
        "## Implementação de um Perceptron simples"
      ]
    },
    {
      "cell_type": "code",
      "execution_count": null,
      "metadata": {
        "id": "LN4r4U_Cx1dA"
      },
      "outputs": [],
      "source": [
        "# Definir a função de agregação de informação (soma poderada)\n",
        "def soma_agregada(entradas, pesos):\n",
        "  soma = 0\n",
        "  for i in range(len(entradas) ):\n",
        "    soma += entradas[i] * pesos[i]\n",
        "  return soma\n"
      ]
    },
    {
      "cell_type": "code",
      "execution_count": null,
      "metadata": {
        "id": "fqsLOvR_x1dG"
      },
      "outputs": [],
      "source": [
        "# Definir a função de ativação: FUNÇÃO DEGRAU\n",
        "def funcao_degrau(u, b=0):\n",
        "  if u+b>0:\n",
        "    return 1\n",
        "  else:\n",
        "    return  0\n"
      ]
    },
    {
      "cell_type": "code",
      "execution_count": null,
      "metadata": {
        "id": "DRcG6eV-x1dJ"
      },
      "outputs": [],
      "source": [
        "x = [1,2,3]\n",
        "w = [0.1,0.2,0.3]\n",
        "b = 0"
      ]
    },
    {
      "cell_type": "code",
      "execution_count": null,
      "metadata": {
        "id": "yNoqh-yjx1dM",
        "colab": {
          "base_uri": "https://localhost:8080/"
        },
        "outputId": "5ebcdbb4-2a94-4837-f4e5-f7cab7b727c3"
      },
      "outputs": [
        {
          "output_type": "stream",
          "name": "stdout",
          "text": [
            "Para um valor de x=[1, 2, 3] e w=[0.1, 0.2, 0.3], o percéptron está ATIVADO\n"
          ]
        }
      ],
      "source": [
        "u = soma_agregada(x, w)\n",
        "resp = funcao_degrau(u,b)\n",
        "print(f\"Para um valor de x={x} e w={w}, \\\n",
        "o percéptron está {'ATIVADO' if resp==1 else 'NÃO ESTÁ ATIVADO'}\")"
      ]
    },
    {
      "cell_type": "markdown",
      "metadata": {
        "id": "0tje9NEcx1dS"
      },
      "source": [
        "## Casos de aplicação do perceptron\n",
        "\n",
        "Vamos analisar a base `escolha_faculdade.xlsx` com exemplos de faculdades identificadas pelo ID e com um conjunto de variáveis que as descrevem. As variáveis são: \n",
        "\n",
        "- reconhecida_MEC: a faculdade é reconhecida pelo MEC? 1=sim ; 0=não\n",
        "- facilidade_pagamento: a faculdade apresenta facilidades para pagamento? 1=sim ; 0=não\n",
        "- flexibilidade_ensino: o quão flexível é o método de ensino? 1=somente presencial ; 2=somente EAD ; 3=misto\n",
        "- entrada_mercado: o que a faculdade oferece para facilitar a entrada do aluno no mercado de trabalho? 0=sem suporte ; 1=feiras ; 2=feiras e estágios ; 3=feiras, estágios e convênios com empresas\n",
        "- score_infraestrutura: qual nota de 0 a 100 a escola possui para sua infraestrutura? \n",
        "- empregabilidade: qual a porcentagem de alunos egressos empregados? \n",
        "- acesso_facil: a localização possui fácil acesso, como metrô, ônibus, estacionamento? 1=sim ; 0=não"
      ]
    },
    {
      "cell_type": "code",
      "execution_count": null,
      "metadata": {
        "id": "j4eSjwmXx1dW"
      },
      "outputs": [],
      "source": [
        "# Pesos já fornecidos \n",
        "pesos = [ 0.10, 0.05, 0.05, 0.2, 0.25, 0.3, 0.05 ]"
      ]
    },
    {
      "cell_type": "code",
      "execution_count": null,
      "metadata": {
        "id": "nwF3sxTfx1dY"
      },
      "outputs": [],
      "source": [
        "import pandas as pd\n",
        "import math"
      ]
    },
    {
      "cell_type": "code",
      "execution_count": null,
      "metadata": {
        "id": "mvm9x_zVx1da"
      },
      "outputs": [],
      "source": [
        "df = pd.read_excel(\"escolha_faculdade.xlsx\", index_col=\"ID\")"
      ]
    },
    {
      "cell_type": "code",
      "execution_count": null,
      "metadata": {
        "id": "DHt4l-2Rx1dc",
        "colab": {
          "base_uri": "https://localhost:8080/",
          "height": 302
        },
        "outputId": "262f9d1c-07e1-48ec-9254-7619568c7bee"
      },
      "outputs": [
        {
          "output_type": "execute_result",
          "data": {
            "text/plain": [
              "    reconhecida_MEC  facilidade_pagamento  flexibilidade_ensino  \\\n",
              "ID                                                                \n",
              "1                 1                     1                     1   \n",
              "2                 1                     0                     2   \n",
              "3                 1                     1                     1   \n",
              "4                 0                     1                     3   \n",
              "5                 0                     1                     2   \n",
              "\n",
              "    entrada_mercado  score_infraestrutura  empregabilidade  acesso_facil  \n",
              "ID                                                                        \n",
              "1                 3                    50               78             1  \n",
              "2                 1                    60               91             0  \n",
              "3                 1                    55               13             1  \n",
              "4                 0                    78               68             1  \n",
              "5                 2                    74               72             0  "
            ],
            "text/html": [
              "\n",
              "  <div id=\"df-298fc060-136e-40b3-8a7c-e68cdf4e61f2\">\n",
              "    <div class=\"colab-df-container\">\n",
              "      <div>\n",
              "<style scoped>\n",
              "    .dataframe tbody tr th:only-of-type {\n",
              "        vertical-align: middle;\n",
              "    }\n",
              "\n",
              "    .dataframe tbody tr th {\n",
              "        vertical-align: top;\n",
              "    }\n",
              "\n",
              "    .dataframe thead th {\n",
              "        text-align: right;\n",
              "    }\n",
              "</style>\n",
              "<table border=\"1\" class=\"dataframe\">\n",
              "  <thead>\n",
              "    <tr style=\"text-align: right;\">\n",
              "      <th></th>\n",
              "      <th>reconhecida_MEC</th>\n",
              "      <th>facilidade_pagamento</th>\n",
              "      <th>flexibilidade_ensino</th>\n",
              "      <th>entrada_mercado</th>\n",
              "      <th>score_infraestrutura</th>\n",
              "      <th>empregabilidade</th>\n",
              "      <th>acesso_facil</th>\n",
              "    </tr>\n",
              "    <tr>\n",
              "      <th>ID</th>\n",
              "      <th></th>\n",
              "      <th></th>\n",
              "      <th></th>\n",
              "      <th></th>\n",
              "      <th></th>\n",
              "      <th></th>\n",
              "      <th></th>\n",
              "    </tr>\n",
              "  </thead>\n",
              "  <tbody>\n",
              "    <tr>\n",
              "      <th>1</th>\n",
              "      <td>1</td>\n",
              "      <td>1</td>\n",
              "      <td>1</td>\n",
              "      <td>3</td>\n",
              "      <td>50</td>\n",
              "      <td>78</td>\n",
              "      <td>1</td>\n",
              "    </tr>\n",
              "    <tr>\n",
              "      <th>2</th>\n",
              "      <td>1</td>\n",
              "      <td>0</td>\n",
              "      <td>2</td>\n",
              "      <td>1</td>\n",
              "      <td>60</td>\n",
              "      <td>91</td>\n",
              "      <td>0</td>\n",
              "    </tr>\n",
              "    <tr>\n",
              "      <th>3</th>\n",
              "      <td>1</td>\n",
              "      <td>1</td>\n",
              "      <td>1</td>\n",
              "      <td>1</td>\n",
              "      <td>55</td>\n",
              "      <td>13</td>\n",
              "      <td>1</td>\n",
              "    </tr>\n",
              "    <tr>\n",
              "      <th>4</th>\n",
              "      <td>0</td>\n",
              "      <td>1</td>\n",
              "      <td>3</td>\n",
              "      <td>0</td>\n",
              "      <td>78</td>\n",
              "      <td>68</td>\n",
              "      <td>1</td>\n",
              "    </tr>\n",
              "    <tr>\n",
              "      <th>5</th>\n",
              "      <td>0</td>\n",
              "      <td>1</td>\n",
              "      <td>2</td>\n",
              "      <td>2</td>\n",
              "      <td>74</td>\n",
              "      <td>72</td>\n",
              "      <td>0</td>\n",
              "    </tr>\n",
              "  </tbody>\n",
              "</table>\n",
              "</div>\n",
              "      <button class=\"colab-df-convert\" onclick=\"convertToInteractive('df-298fc060-136e-40b3-8a7c-e68cdf4e61f2')\"\n",
              "              title=\"Convert this dataframe to an interactive table.\"\n",
              "              style=\"display:none;\">\n",
              "        \n",
              "  <svg xmlns=\"http://www.w3.org/2000/svg\" height=\"24px\"viewBox=\"0 0 24 24\"\n",
              "       width=\"24px\">\n",
              "    <path d=\"M0 0h24v24H0V0z\" fill=\"none\"/>\n",
              "    <path d=\"M18.56 5.44l.94 2.06.94-2.06 2.06-.94-2.06-.94-.94-2.06-.94 2.06-2.06.94zm-11 1L8.5 8.5l.94-2.06 2.06-.94-2.06-.94L8.5 2.5l-.94 2.06-2.06.94zm10 10l.94 2.06.94-2.06 2.06-.94-2.06-.94-.94-2.06-.94 2.06-2.06.94z\"/><path d=\"M17.41 7.96l-1.37-1.37c-.4-.4-.92-.59-1.43-.59-.52 0-1.04.2-1.43.59L10.3 9.45l-7.72 7.72c-.78.78-.78 2.05 0 2.83L4 21.41c.39.39.9.59 1.41.59.51 0 1.02-.2 1.41-.59l7.78-7.78 2.81-2.81c.8-.78.8-2.07 0-2.86zM5.41 20L4 18.59l7.72-7.72 1.47 1.35L5.41 20z\"/>\n",
              "  </svg>\n",
              "      </button>\n",
              "      \n",
              "  <style>\n",
              "    .colab-df-container {\n",
              "      display:flex;\n",
              "      flex-wrap:wrap;\n",
              "      gap: 12px;\n",
              "    }\n",
              "\n",
              "    .colab-df-convert {\n",
              "      background-color: #E8F0FE;\n",
              "      border: none;\n",
              "      border-radius: 50%;\n",
              "      cursor: pointer;\n",
              "      display: none;\n",
              "      fill: #1967D2;\n",
              "      height: 32px;\n",
              "      padding: 0 0 0 0;\n",
              "      width: 32px;\n",
              "    }\n",
              "\n",
              "    .colab-df-convert:hover {\n",
              "      background-color: #E2EBFA;\n",
              "      box-shadow: 0px 1px 2px rgba(60, 64, 67, 0.3), 0px 1px 3px 1px rgba(60, 64, 67, 0.15);\n",
              "      fill: #174EA6;\n",
              "    }\n",
              "\n",
              "    [theme=dark] .colab-df-convert {\n",
              "      background-color: #3B4455;\n",
              "      fill: #D2E3FC;\n",
              "    }\n",
              "\n",
              "    [theme=dark] .colab-df-convert:hover {\n",
              "      background-color: #434B5C;\n",
              "      box-shadow: 0px 1px 3px 1px rgba(0, 0, 0, 0.15);\n",
              "      filter: drop-shadow(0px 1px 2px rgba(0, 0, 0, 0.3));\n",
              "      fill: #FFFFFF;\n",
              "    }\n",
              "  </style>\n",
              "\n",
              "      <script>\n",
              "        const buttonEl =\n",
              "          document.querySelector('#df-298fc060-136e-40b3-8a7c-e68cdf4e61f2 button.colab-df-convert');\n",
              "        buttonEl.style.display =\n",
              "          google.colab.kernel.accessAllowed ? 'block' : 'none';\n",
              "\n",
              "        async function convertToInteractive(key) {\n",
              "          const element = document.querySelector('#df-298fc060-136e-40b3-8a7c-e68cdf4e61f2');\n",
              "          const dataTable =\n",
              "            await google.colab.kernel.invokeFunction('convertToInteractive',\n",
              "                                                     [key], {});\n",
              "          if (!dataTable) return;\n",
              "\n",
              "          const docLinkHtml = 'Like what you see? Visit the ' +\n",
              "            '<a target=\"_blank\" href=https://colab.research.google.com/notebooks/data_table.ipynb>data table notebook</a>'\n",
              "            + ' to learn more about interactive tables.';\n",
              "          element.innerHTML = '';\n",
              "          dataTable['output_type'] = 'display_data';\n",
              "          await google.colab.output.renderOutput(dataTable, element);\n",
              "          const docLink = document.createElement('div');\n",
              "          docLink.innerHTML = docLinkHtml;\n",
              "          element.appendChild(docLink);\n",
              "        }\n",
              "      </script>\n",
              "    </div>\n",
              "  </div>\n",
              "  "
            ]
          },
          "metadata": {},
          "execution_count": 15
        }
      ],
      "source": [
        "df.head()"
      ]
    },
    {
      "cell_type": "code",
      "execution_count": null,
      "metadata": {
        "id": "KAwdaIDAx1de"
      },
      "outputs": [],
      "source": [
        "escolas = df.T"
      ]
    },
    {
      "cell_type": "code",
      "execution_count": null,
      "metadata": {
        "id": "e2sxlSJ9x1dg",
        "colab": {
          "base_uri": "https://localhost:8080/"
        },
        "outputId": "bf4f864f-530a-45f2-d26e-ce1f31e77d57"
      },
      "outputs": [
        {
          "output_type": "execute_result",
          "data": {
            "text/plain": [
              "reconhecida_MEC          1\n",
              "facilidade_pagamento     0\n",
              "flexibilidade_ensino     3\n",
              "entrada_mercado          3\n",
              "score_infraestrutura    89\n",
              "empregabilidade         89\n",
              "acesso_facil             0\n",
              "Name: 9, dtype: int64"
            ]
          },
          "metadata": {},
          "execution_count": 19
        }
      ],
      "source": [
        "escolas[9]"
      ]
    },
    {
      "cell_type": "code",
      "execution_count": null,
      "metadata": {
        "id": "gHRgaGTqx1di",
        "colab": {
          "base_uri": "https://localhost:8080/"
        },
        "outputId": "591264d2-bb6b-4393-dd99-358d6bf7c45c"
      },
      "outputs": [
        {
          "output_type": "execute_result",
          "data": {
            "text/plain": [
              "49.8"
            ]
          },
          "metadata": {},
          "execution_count": 20
        }
      ],
      "source": [
        "soma_agregada(escolas[9], pesos)"
      ]
    },
    {
      "cell_type": "code",
      "execution_count": null,
      "metadata": {
        "id": "WyiMDAXax1dj"
      },
      "outputs": [],
      "source": [
        "#Definir função para classificação\n",
        "def funcao_classificacao(u, b=0):\n",
        "  if u+b>=35:\n",
        "    return 1\n",
        "  else:\n",
        "    return 0"
      ]
    },
    {
      "cell_type": "code",
      "execution_count": null,
      "metadata": {
        "id": "WZpBvxu1x1dk"
      },
      "outputs": [],
      "source": [
        "#Definir função para regressão\n",
        "def funcao_regressao(u, b=0):\n",
        "  return (u+b)**2"
      ]
    },
    {
      "cell_type": "code",
      "execution_count": null,
      "metadata": {
        "id": "5-8ISP1Hx1dl",
        "colab": {
          "base_uri": "https://localhost:8080/"
        },
        "outputId": "5696769d-0cee-48db-e02e-dc9c00e11c54"
      },
      "outputs": [
        {
          "output_type": "stream",
          "name": "stdout",
          "text": [
            "[1350.5625, 1823.2900000000002, 327.61000000000007, 1612.0224999999994, 1652.4225, 1085.7025, 1242.5625, 135.7225, 2480.0399999999995, 235.62250000000003]\n"
          ]
        }
      ],
      "source": [
        "resp_clas = []\n",
        "resp_regr = []\n",
        "\n",
        "for i in range(1, 11): #pegando os ID's de 1 a 10\n",
        "  e = escolas[i]\n",
        "  u = soma_agregada(e, pesos)\n",
        "  atv = funcao_classificacao(u)\n",
        "  reg = funcao_regressao(u)\n",
        "  resp_clas.append(atv)\n",
        "  resp_regr.append(reg)\n",
        "\n",
        "print(resp_regr)"
      ]
    },
    {
      "cell_type": "code",
      "execution_count": null,
      "metadata": {
        "id": "KMnJ_n_Ox1dm"
      },
      "outputs": [],
      "source": []
    },
    {
      "cell_type": "code",
      "execution_count": null,
      "metadata": {
        "id": "qVrZ0JUex1dn"
      },
      "outputs": [],
      "source": []
    }
  ],
  "metadata": {
    "kernelspec": {
      "display_name": "Python 3",
      "language": "python",
      "name": "python3"
    },
    "language_info": {
      "codemirror_mode": {
        "name": "ipython",
        "version": 3
      },
      "file_extension": ".py",
      "mimetype": "text/x-python",
      "name": "python",
      "nbconvert_exporter": "python",
      "pygments_lexer": "ipython3",
      "version": "3.7.3"
    },
    "colab": {
      "provenance": [],
      "include_colab_link": true
    }
  },
  "nbformat": 4,
  "nbformat_minor": 0
}